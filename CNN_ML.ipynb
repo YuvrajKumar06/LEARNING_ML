{
 "cells": [
  {
   "cell_type": "code",
   "execution_count": 87,
   "id": "d32e7ade",
   "metadata": {},
   "outputs": [],
   "source": [
    "import pickle\n",
    "import os"
   ]
  },
  {
   "cell_type": "code",
   "execution_count": 88,
   "id": "0842010c",
   "metadata": {},
   "outputs": [],
   "source": [
    "CIFAR_DIR = r\"D:\\Learning_ML\\cifar-10-batches-py\"\n"
   ]
  },
  {
   "cell_type": "code",
   "execution_count": 89,
   "id": "62bba033",
   "metadata": {},
   "outputs": [],
   "source": [
    "dirs = [\n",
    "    \"batches.meta\",\n",
    "    \"data_batch_1\",\n",
    "    \"data_batch_2\",\n",
    "    \"data_batch_3\",\n",
    "    \"data_batch_4\",\n",
    "    \"data_batch_5\",\n",
    "    \"test_batch\"\n",
    "]"
   ]
  },
  {
   "cell_type": "code",
   "execution_count": 90,
   "id": "9177b280",
   "metadata": {},
   "outputs": [],
   "source": [
    "def unpickle(file):\n",
    "    with open(file, 'rb') as fo:\n",
    "        data_dict = pickle.load(fo, encoding='bytes')\n",
    "    return data_dict"
   ]
  },
  {
   "cell_type": "code",
   "execution_count": 91,
   "id": "d4978d6c",
   "metadata": {},
   "outputs": [],
   "source": [
    "all_data = [0, 1, 2, 3, 4, 5, 6]"
   ]
  },
  {
   "cell_type": "code",
   "execution_count": 92,
   "id": "ce8d4c46",
   "metadata": {},
   "outputs": [],
   "source": [
    "for i, direc in zip(range(len(dirs)), dirs):\n",
    "    all_data[i] = unpickle(os.path.join(CIFAR_DIR, direc))\n",
    "batch_meta = all_data[0]\n",
    "data_batch1 = all_data[1]\n",
    "data_batch2 = all_data[2]\n",
    "data_batch3 = all_data[3]\n",
    "data_batch4 = all_data[4]\n",
    "data_batch5 = all_data[5]\n",
    "test_batch = all_data[6]"
   ]
  },
  {
   "cell_type": "code",
   "execution_count": 93,
   "id": "3fd9cafe",
   "metadata": {},
   "outputs": [
    {
     "name": "stdout",
     "output_type": "stream",
     "text": [
      "{b'num_cases_per_batch': 10000, b'label_names': [b'airplane', b'automobile', b'bird', b'cat', b'deer', b'dog', b'frog', b'horse', b'ship', b'truck'], b'num_vis': 3072}\n"
     ]
    }
   ],
   "source": [
    "print(batch_meta)"
   ]
  },
  {
   "cell_type": "code",
   "execution_count": 94,
   "id": "894cb561",
   "metadata": {},
   "outputs": [
    {
     "data": {
      "text/plain": [
       "dict_keys([b'batch_label', b'labels', b'data', b'filenames'])"
      ]
     },
     "execution_count": 94,
     "metadata": {},
     "output_type": "execute_result"
    }
   ],
   "source": [
    "data_batch1.keys()"
   ]
  },
  {
   "cell_type": "code",
   "execution_count": 95,
   "id": "358aaa18",
   "metadata": {},
   "outputs": [],
   "source": [
    "import matplotlib.pyplot as plt\n",
    "import numpy as np"
   ]
  },
  {
   "cell_type": "code",
   "execution_count": 96,
   "id": "fedb7042",
   "metadata": {},
   "outputs": [],
   "source": [
    "X = data_batch1[b\"data\"]\n",
    "X = X.reshape(10000, 3, 32, 32).transpose(0, 2, 3, 1).astype(\"uint8\")"
   ]
  },
  {
   "cell_type": "markdown",
   "id": "33d69e70",
   "metadata": {},
   "source": [
    "| Code                         | What it does                                               |\n",
    "| ---------------------------- | ---------------------------------------------------------- |\n",
    "| `data_batch1[b\"data\"]`       | Gets raw image data (shape: 10000×3072)                    |\n",
    "| `.reshape(10000, 3, 32, 32)` | Reshapes each image to `[3, 32, 32]` (channel-first)       |\n",
    "| `.transpose(0, 2, 3, 1)`     | Converts to `[32, 32, 3]` format (height, width, channels) |\n",
    "| `.astype(\"uint8\")`           | Converts to integer pixel format for visualization         |"
   ]
  },
  {
   "cell_type": "code",
   "execution_count": 97,
   "id": "b4db250d",
   "metadata": {},
   "outputs": [
    {
     "data": {
      "text/plain": [
       "255"
      ]
     },
     "execution_count": 97,
     "metadata": {},
     "output_type": "execute_result"
    }
   ],
   "source": [
    "X[0].max()"
   ]
  },
  {
   "cell_type": "code",
   "execution_count": 98,
   "id": "d0774601",
   "metadata": {},
   "outputs": [
    {
     "data": {
      "text/plain": [
       "<matplotlib.image.AxesImage at 0x1e4bf976950>"
      ]
     },
     "execution_count": 98,
     "metadata": {},
     "output_type": "execute_result"
    },
    {
     "data": {
      "image/png": "[encoded data removed]",
      "text/plain": [
       "<Figure size 640x480 with 1 Axes>"
      ]
     },
     "metadata": {},
     "output_type": "display_data"
    }
   ],
   "source": [
    "plt.imshow(X[856])"
   ]
  },
  {
   "cell_type": "code",
   "execution_count": 99,
   "id": "9b992fb5",
   "metadata": {},
   "outputs": [],
   "source": [
    "def one_hot_encode(vec, vals = 10):\n",
    "    n = len(vec)\n",
    "    out = np.zeros((n, vals))\n",
    "    out[range(n), vec] = 1\n",
    "    return out"
   ]
  },
  {
   "cell_type": "code",
   "execution_count": 100,
   "id": "4574256e",
   "metadata": {},
   "outputs": [],
   "source": [
    "class CIFAR_HELPER():\n",
    "    def __init__(self):\n",
    "        self.i = 0\n",
    "\n",
    "        self.all_train_batches = [data_batch1, data_batch2, data_batch3, data_batch4, data_batch5]\n",
    "        self.test_batch = [test_batch]\n",
    "\n",
    "        self.training_image = None\n",
    "        self.training_labels = None\n",
    "\n",
    "        self.test_images = None\n",
    "        self.test_label = None\n",
    "\n",
    "    def set_up_images(self):\n",
    "        print(\"Setting up Training images and labels\")\n",
    "\n",
    "        self.training_image = np.vstack([d[b\"data\"] for d in self.all_train_batches])\n",
    "        train_len = len(self.training_image)\n",
    "\n",
    "        self.training_image = self.training_image.reshape(train_len, 3, 32, 32).transpose(0, 2, 3, 1)/255\n",
    "        self.training_labels = one_hot_encode(np.hstack([d[b\"labels\"] for d in self.all_train_batches]), 10)\n",
    "\n",
    "        print(\"SETTING UP Test images and labels\")\n",
    "\n",
    "        self.test_images = np.vstack([d[b\"data\"] for d in self.test_batch])\n",
    "        test_len= len(self.test_images)\n",
    "\n",
    "        self.test_images = self.test_images.reshape(test_len, 3, 32, 32).transpose(0, 2, 3, 1)/255\n",
    "        self.test_label = one_hot_encode(np.hstack([d[b\"labels\"] for d in self.test_batch]), 10)\n",
    "    def next_batch(self, batch_size):\n",
    "        x = self.training_image[self.i:self.i + batch_size]\n",
    "        y = self.training_labels[self.i:self.i + batch_size]\n",
    "        self.i = (self.i + batch_size) % len(self.training_image)\n",
    "        return x, y\n"
   ]
  },
  {
   "cell_type": "code",
   "execution_count": 101,
   "id": "61cd9734",
   "metadata": {},
   "outputs": [
    {
     "name": "stdout",
     "output_type": "stream",
     "text": [
      "Setting up Training images and labels\n",
      "SETTING UP Test images and labels\n"
     ]
    }
   ],
   "source": [
    "ch = CIFAR_HELPER()\n",
    "ch.set_up_images()\n",
    "# batch = ch.next_batch(100)"
   ]
  },
  {
   "cell_type": "code",
   "execution_count": 102,
   "id": "0eebd0af",
   "metadata": {},
   "outputs": [],
   "source": [
    "import tensorflow.compat.v1 as tf\n",
    "tf.compat.v1.disable_v2_behavior()\n",
    "\n",
    "x = tf.placeholder(tf.float32, shape=[None, 32, 32, 3])\n",
    "y_true = tf.placeholder(tf.float32, shape=[None, 10])\n",
    "hold_prob = tf.placeholder(tf.float32)\n"
   ]
  },
  {
   "cell_type": "code",
   "execution_count": 103,
   "id": "6f2e6d80",
   "metadata": {},
   "outputs": [],
   "source": [
    "import tensorflow as tf\n",
    "\n",
    "def init_weights(shape):\n",
    "    init_random_dist = tf.random.truncated_normal(shape, stddev=0.1)\n",
    "    return tf.Variable(init_random_dist)\n",
    "\n",
    "\n",
    "def init_bias(shape):\n",
    "    init_bias_vals = tf.constant(0.1, shape=shape)\n",
    "    return tf.Variable(init_bias_vals)\n",
    "\n",
    "def conv2d(x, W):\n",
    "    return tf.nn.conv2d(x, W, strides=[1, 1, 1, 1], padding='SAME')\n",
    "\n",
    "def max_pool_2by2(x):\n",
    "    return tf.nn.max_pool(x, ksize=[1, 2, 2, 1],\n",
    "                          strides=[1, 2, 2, 1], padding='SAME')\n",
    "\n",
    "def convolutional_layer(input_x, shape):\n",
    "    W = init_weights(shape)\n",
    "    b = init_bias([shape[3]])\n",
    "    return tf.nn.relu(conv2d(input_x, W) + b)\n",
    "\n",
    "def normal_full_layer(input_layer, size):\n",
    "    input_size = int(input_layer.get_shape()[1])\n",
    "    W = init_weights([input_size, size])\n",
    "    b = init_bias([size])\n",
    "    return tf.matmul(input_layer, W) + b\n",
    "\n"
   ]
  },
  {
   "cell_type": "markdown",
   "id": "a15f1566",
   "metadata": {},
   "source": [
    "1) def init_weights(shape):\n",
    "Initializes a weight tensor of given shape.\n",
    "\n",
    "Uses a truncated normal distribution to avoid large values (mean = 0, stddev = 0.1).\n",
    "\n",
    "tf.Variable(...) makes the tensor trainable.\n",
    "\n",
    "2) def init_bias(shape):\n",
    "Initializes bias with constant values (0.1).\n",
    "\n",
    "Helps ensure ReLU neurons are active initially (not dead).\n",
    "\n",
    "3) def conv2d(x, W):\n",
    "Applies a 2D convolution on input x using weights W.\n",
    "\n",
    "strides=[1, 1, 1, 1]: move one pixel at a time.\n",
    "\n",
    "'SAME' padding preserves the input dimensions.\n",
    "\n",
    "4) def max_pool_2by2(x):\n",
    "Applies 2x2 max pooling to reduce the spatial size.\n",
    "\n",
    "ksize is the window size, and strides defines how far the window moves.\n",
    "\n",
    "Reduces feature map size by half (with padding).\n",
    "\n",
    "5) def convolutional_layer(input_x, shape):\n",
    "Creates a complete convolutional layer:\n",
    "\n",
    "Initializes weights and biases.\n",
    "\n",
    "Applies convolution.\n",
    "\n",
    "Adds bias.\n",
    "\n",
    "Applies ReLU activation for non-linearity.\n",
    "\n",
    "6) def normal_full_layer(input_layer, size):\n",
    "Defines a fully connected (dense) layer.\n",
    "\n",
    "input_layer.get_shape()[1] gets the number of features going in.\n",
    "\n",
    "Applies matmul for a dense layer (dot product + bias).\n",
    "\n"
   ]
  },
  {
   "cell_type": "code",
   "execution_count": 104,
   "id": "81b3d236",
   "metadata": {},
   "outputs": [],
   "source": [
    "conv_1 = convolutional_layer(x, shape=[4, 4, 3, 32])\n",
    "conv_1_pooling = max_pool_2by2(conv_1)\n",
    "\n",
    "conv_2 = convolutional_layer(conv_1_pooling, shape=[4, 4, 32, 64])\n",
    "conv_2_pooling = max_pool_2by2(conv_2)\n"
   ]
  },
  {
   "cell_type": "code",
   "execution_count": 105,
   "id": "0f84eb81",
   "metadata": {},
   "outputs": [],
   "source": [
    "conv_2_flatten = tf.reshape(conv_2_pooling, [-1,8*8*64])"
   ]
  },
  {
   "cell_type": "markdown",
   "id": "c59377fe",
   "metadata": {},
   "source": [
    "tf.reshape(...): reshapes the tensor.\n",
    "\n",
    "-1: means TensorFlow will automatically calculate the batch size.\n",
    "\n",
    "8*8*64: assumes the spatial dimensions are 8×8 with 64 channels (features)."
   ]
  },
  {
   "cell_type": "code",
   "execution_count": 106,
   "id": "ac133be6",
   "metadata": {},
   "outputs": [],
   "source": [
    "full_layer_one = tf.nn.relu(normal_full_layer(conv_2_flatten, 1024))"
   ]
  },
  {
   "cell_type": "code",
   "execution_count": 108,
   "id": "dd6116d1",
   "metadata": {},
   "outputs": [],
   "source": [
    "dropout = tf.nn.dropout(full_layer_one, rate=1 - hold_prob)\n"
   ]
  },
  {
   "cell_type": "code",
   "execution_count": 125,
   "id": "2e21135e",
   "metadata": {},
   "outputs": [],
   "source": [
    "y_pred = normal_full_layer(dropout, 10)\n",
    "cross_entropy = tf.reduce_mean(tf.nn.softmax_cross_entropy_with_logits(logits=y_pred, labels=y_true))"
   ]
  },
  {
   "cell_type": "code",
   "execution_count": 126,
   "id": "133bf167",
   "metadata": {},
   "outputs": [],
   "source": [
    "import tensorflow.compat.v1 as tf\n",
    "tf.disable_v2_behavior()\n",
    "optimizer = tf.train.AdamOptimizer(learning_rate = 0.001)\n",
    "train = optimizer.minimize(cross_entropy)"
   ]
  },
  {
   "cell_type": "code",
   "execution_count": 127,
   "id": "5bb3fd99",
   "metadata": {},
   "outputs": [],
   "source": [
    "init = tf.global_variables_initializer()"
   ]
  },
  {
   "cell_type": "code",
   "execution_count": 130,
   "id": "0ea5c6a6",
   "metadata": {},
   "outputs": [
    {
     "name": "stdout",
     "output_type": "stream",
     "text": [
      "Currently on step 0\n",
      "Accuracy: 0.1052\n",
      "\n",
      "\n",
      "Currently on step 100\n",
      "Accuracy: 0.4129\n",
      "\n",
      "\n",
      "Currently on step 200\n",
      "Accuracy: 0.4659\n",
      "\n",
      "\n",
      "Currently on step 300\n",
      "Accuracy: 0.5003\n",
      "\n",
      "\n",
      "Currently on step 400\n",
      "Accuracy: 0.5226\n",
      "\n",
      "\n"
     ]
    }
   ],
   "source": [
    "saver = tf.train.Saver()\n",
    "with tf.Session() as sess:\n",
    "    sess.run(tf.global_variables_initializer())\n",
    "\n",
    "    for i in range(500):\n",
    "        batch = ch.next_batch(100)\n",
    "        sess.run(train, feed_dict={x: batch[0], y_true: batch[1], hold_prob: 0.5})\n",
    "\n",
    "        if i % 100 == 0:\n",
    "            print(\"Currently on step {}\".format(i))\n",
    "            matches = tf.equal(tf.argmax(y_pred, 1), tf.argmax(y_true, 1))\n",
    "            acc = tf.reduce_mean(tf.cast(matches, tf.float32))\n",
    "            print(\"Accuracy:\", sess.run(acc, feed_dict={x: ch.test_images, y_true: ch.test_label, hold_prob: 1.0}))\n",
    "            print(\"\\n\")\n",
    "\n",
    "    saver.save(sess, './cnn_cifar10_model.ckpt')\n"
   ]
  }
 ],
 "metadata": {
  "kernelspec": {
   "display_name": "Python 3",
   "language": "python",
   "name": "python3"
  },
  "language_info": {
   "codemirror_mode": {
    "name": "ipython",
    "version": 3
   },
   "file_extension": ".py",
   "mimetype": "text/x-python",
   "name": "python",
   "nbconvert_exporter": "python",
   "pygments_lexer": "ipython3",
   "version": "3.11.0"
  }
 },
 "nbformat": 4,
 "nbformat_minor": 5
}
